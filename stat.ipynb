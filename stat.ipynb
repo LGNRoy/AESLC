{
 "cells": [
  {
   "cell_type": "code",
   "execution_count": 31,
   "metadata": {},
   "outputs": [],
   "source": [
    "content = \"train\"\n",
    "domain = \"sub\"\n",
    "count = 0\n",
    "sumtoken = 0\n",
    "maxtoken = 0\n",
    "mintoken = 100\n",
    "for line in open(\"data/token/{}_token_{}.txt\".format(content, domain)):\n",
    "    doctoken = 0\n",
    "    for sentence in line.split(\"<sentsep>\"):\n",
    "        senttoken = 0\n",
    "        for token in sentence.split(\"<tokesep>\"):\n",
    "            senttoken += 1\n",
    "        doctoken += senttoken\n",
    "    \n",
    "    if doctoken > maxtoken:\n",
    "        maxtoken = doctoken\n",
    "#         print(count, maxtoken, line.replace(\"<sentsep>\",\" \").replace(\"<tokesep>\", \" \"))\n",
    "    if doctoken < mintoken:\n",
    "        mintoken = doctoken\n",
    "#         print(count, mintoken, line.replace(\"<sentsep>\",\" \").replace(\"<tokesep>\", \" \"))\n",
    "    sumtoken += doctoken\n",
    "    count += 1"
   ]
  },
  {
   "cell_type": "code",
   "execution_count": 32,
   "metadata": {},
   "outputs": [
    {
     "name": "stdout",
     "output_type": "stream",
     "text": [
      "4.552784704904406 24 1\n"
     ]
    }
   ],
   "source": [
    "print(sumtoken/count, maxtoken, mintoken)"
   ]
  },
  {
   "cell_type": "markdown",
   "metadata": {},
   "source": [
    "In Subject, max # of token is 24, min # is 1, average # is 4.55"
   ]
  },
  {
   "cell_type": "code",
   "execution_count": 33,
   "metadata": {},
   "outputs": [],
   "source": [
    "content = \"train\"\n",
    "domain = \"doc\"\n",
    "count = 0\n",
    "sumtoken = 0\n",
    "maxtoken = 0\n",
    "mintoken = 10000\n",
    "\n",
    "sumsentence = 0\n",
    "maxsentence = 0\n",
    "minsentence = 10000\n",
    "\n",
    "sumtoknsent = 0\n",
    "maxtoknsent = 0\n",
    "mintoknsent = 10000\n",
    "\n",
    "for line in open(\"data/token/{}_token_{}.txt\".format(content, domain)):\n",
    "    doctoken = 0\n",
    "    docsentence = 0\n",
    "    for sentence in line.split(\"<sentsep>\"):\n",
    "        senttoken = 0\n",
    "        for token in sentence.split(\"<tokesep>\"):\n",
    "            senttoken += 1\n",
    "        doctoken += senttoken\n",
    "        \n",
    "        if senttoken > maxtoknsent:\n",
    "            maxtoknsent = senttoken\n",
    "        if senttoken < mintoknsent:\n",
    "            mintoknsent = senttoken\n",
    "        sumtoknsent += senttoken\n",
    "\n",
    "        docsentence += 1\n",
    "    \n",
    "    if docsentence > maxsentence:\n",
    "        maxsentence = docsentence\n",
    "    if docsentence < minsentence:\n",
    "        minsentence = docsentence\n",
    "    \n",
    "    if doctoken > maxtoken:\n",
    "        maxtoken = doctoken\n",
    "    if doctoken < mintoken:\n",
    "        mintoken = doctoken\n",
    "    \n",
    "    sumsentence += docsentence\n",
    "    sumtoken += doctoken\n",
    "    count += 1"
   ]
  },
  {
   "cell_type": "code",
   "execution_count": 34,
   "metadata": {},
   "outputs": [
    {
     "name": "stdout",
     "output_type": "stream",
     "text": [
      "144.75526461623718 4428 28\n",
      "7.859310058187864 187 1\n",
      "144.75526461623718 566 1\n"
     ]
    }
   ],
   "source": [
    "print(sumtoken/count, maxtoken, mintoken)\n",
    "print(sumsentence/count, maxsentence, minsentence)\n",
    "print(sumtoknsent/count, maxtoknsent, mintoknsent)"
   ]
  },
  {
   "cell_type": "markdown",
   "metadata": {},
   "source": [
    "In document, average 144.76 tokens, max for 4428, min for 28; average 7.86 sentences, max for 187, min for 1."
   ]
  }
 ],
 "metadata": {
  "kernelspec": {
   "display_name": "Python 3",
   "language": "python",
   "name": "python3"
  },
  "language_info": {
   "codemirror_mode": {
    "name": "ipython",
    "version": 3
   },
   "file_extension": ".py",
   "mimetype": "text/x-python",
   "name": "python",
   "nbconvert_exporter": "python",
   "pygments_lexer": "ipython3",
   "version": "3.7.4"
  }
 },
 "nbformat": 4,
 "nbformat_minor": 4
}
