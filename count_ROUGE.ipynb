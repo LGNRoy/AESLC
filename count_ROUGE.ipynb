{
 "cells": [
  {
   "cell_type": "code",
   "execution_count": 1,
   "metadata": {},
   "outputs": [],
   "source": [
    "def one_gram(sent, sep=\"<tokesep>\"):\n",
    "    return set(sent.split(sep)) \n",
    "def two_gram(sent, sep=\"<tokesep>\"):\n",
    "    last = \"\"\n",
    "    grams = []\n",
    "    first = True\n",
    "    for word in sent.split(sep):\n",
    "        if first:\n",
    "            first = False\n",
    "        else:\n",
    "            grams.append(\"{} {}\".format(last, word))\n",
    "        last = word\n",
    "    return set(grams)\n",
    "def cal_rouge(evaluated_ngrams, reference_ngrams):\n",
    "    reference_count = len(reference_ngrams)\n",
    "    evaluated_count = len(evaluated_ngrams)\n",
    "\n",
    "    overlapping_ngrams = evaluated_ngrams.intersection(reference_ngrams)\n",
    "    overlapping_count = len(overlapping_ngrams)\n",
    "\n",
    "    if evaluated_count == 0:\n",
    "        precision = 0.0\n",
    "    else:\n",
    "        precision = overlapping_count / evaluated_count\n",
    "\n",
    "    if reference_count == 0:\n",
    "        recall = 0.0\n",
    "    else:\n",
    "        recall = overlapping_count / reference_count\n",
    "\n",
    "    f1_score = 2.0 * ((precision * recall) / (precision + recall + 1e-8))\n",
    "    return {\"f\": f1_score, \"p\": precision, \"r\": recall}"
   ]
  },
  {
   "cell_type": "code",
   "execution_count": 8,
   "metadata": {},
   "outputs": [],
   "source": [
    "file = \"result.4000\"\n",
    "path = \"random/\"+file\n",
    "cand = path+\".candidate\"\n",
    "gold = path+\".gold\"\n",
    "result = file+\".rouge\""
   ]
  },
  {
   "cell_type": "code",
   "execution_count": 9,
   "metadata": {},
   "outputs": [],
   "source": [
    "reader_cand = open(cand)\n",
    "reader_gold = open(gold)\n",
    "writer_result = open(result,\"w\")\n",
    "\n",
    "rouge_1 = {\"f\": 0, \"p\": 0, \"r\": 0}\n",
    "rouge_2 = {\"f\": 0, \"p\": 0, \"r\": 0}\n",
    "count = 0\n",
    "\n",
    "while True:\n",
    "    cand_line = reader_cand.readline().replace(\"\\n\",\"\")\n",
    "    gold_line = reader_gold.readline().replace(\"\\n\",\"\")\n",
    "    if not cand_line:\n",
    "        break\n",
    "\n",
    "    count += 1\n",
    "    gram_1 = cal_rouge(one_gram(cand_line,\" \"), one_gram(gold_line,\" \"))\n",
    "    gram_2 = cal_rouge(two_gram(cand_line,\" \"), two_gram(gold_line,\" \"))\n",
    "    rouge_1[\"f\"] += gram_1[\"f\"]\n",
    "    rouge_1[\"p\"] += gram_1[\"p\"]\n",
    "    rouge_1[\"r\"] += gram_1[\"r\"]\n",
    "    rouge_2[\"f\"] += gram_2[\"f\"]\n",
    "    rouge_2[\"p\"] += gram_2[\"p\"]\n",
    "    rouge_2[\"r\"] += gram_2[\"r\"]\n",
    "    \n",
    "    writer_result.write(str(gram_1)+\", \"+str(gram_2)+\"\\n\")\n",
    "    \n",
    "reader_cand.close()\n",
    "reader_gold.close()\n",
    "writer_result.close()"
   ]
  },
  {
   "cell_type": "code",
   "execution_count": 10,
   "metadata": {},
   "outputs": [
    {
     "data": {
      "text/plain": [
       "({'f': 0.0773951396104181,\n",
       "  'p': 0.059357671878184505,\n",
       "  'r': 0.14298744685154938},\n",
       " {'f': 0.014224901807960303,\n",
       "  'p': 0.0094699182258489,\n",
       "  'r': 0.04060034505981974})"
      ]
     },
     "execution_count": 10,
     "metadata": {},
     "output_type": "execute_result"
    }
   ],
   "source": [
    "rouge_1[\"f\"] /= count \n",
    "rouge_1[\"p\"] /= count \n",
    "rouge_1[\"r\"] /= count \n",
    "rouge_2[\"f\"] /= count \n",
    "rouge_2[\"p\"] /= count \n",
    "rouge_2[\"r\"] /= count \n",
    "rouge_1, rouge_2"
   ]
  },
  {
   "cell_type": "code",
   "execution_count": 7,
   "metadata": {},
   "outputs": [
    {
     "data": {
      "text/plain": [
       "({'f': 0.09343767757947437,\n",
       "  'p': 0.10878549832631461,\n",
       "  'r': 0.09559463118136585},\n",
       " {'f': 0.02638802336725404,\n",
       "  'p': 0.02959183673469388,\n",
       "  'r': 0.03026812095689648})"
      ]
     },
     "execution_count": 7,
     "metadata": {},
     "output_type": "execute_result"
    }
   ],
   "source": [
    "rouge_1[\"f\"] /= count \n",
    "rouge_1[\"p\"] /= count \n",
    "rouge_1[\"r\"] /= count \n",
    "rouge_2[\"f\"] /= count \n",
    "rouge_2[\"p\"] /= count \n",
    "rouge_2[\"r\"] /= count \n",
    "rouge_1, rouge_2"
   ]
  },
  {
   "cell_type": "code",
   "execution_count": null,
   "metadata": {},
   "outputs": [],
   "source": []
  },
  {
   "cell_type": "code",
   "execution_count": null,
   "metadata": {},
   "outputs": [],
   "source": []
  },
  {
   "cell_type": "code",
   "execution_count": null,
   "metadata": {},
   "outputs": [],
   "source": [
    "import random\n",
    "a = list(range(0,len(res)))\n",
    "random.shuffle(a)"
   ]
  },
  {
   "cell_type": "code",
   "execution_count": null,
   "metadata": {},
   "outputs": [],
   "source": []
  },
  {
   "cell_type": "code",
   "execution_count": 30,
   "metadata": {},
   "outputs": [],
   "source": [
    "file = \"result.4000\"\n",
    "path = \"random/\"+file\n",
    "cand = path+\".candidate\"\n",
    "gold = path+\".gold\""
   ]
  },
  {
   "cell_type": "code",
   "execution_count": 31,
   "metadata": {},
   "outputs": [],
   "source": [
    "reader_cand = open(cand)\n",
    "reader_gold = open(gold)\n",
    "\n",
    "\n",
    "res = []\n",
    "count = 0\n",
    "\n",
    "while True:\n",
    "    cand_line = reader_cand.readline().replace(\"\\n\",\"\")\n",
    "    gold_line = reader_gold.readline().replace(\"\\n\",\"\")\n",
    "    if not cand_line:\n",
    "        break\n",
    "\n",
    "    count += 1\n",
    "    gram_1 = cal_rouge(one_gram(cand_line,\" \"), one_gram(gold_line,\" \"))\n",
    "    gram_2 = cal_rouge(two_gram(cand_line,\" \"), two_gram(gold_line,\" \"))\n",
    "    \n",
    "    res.append(\"{}\\t{}\\t{}\\t{}\\t{}\\n\".format(cand_line, gold_line, gram_1[\"f\"],gram_1[\"p\"],gram_1[\"r\"]))\n",
    "    \n",
    "\n",
    "    \n",
    "reader_cand.close()\n",
    "reader_gold.close()\n",
    "# writer_result.close()"
   ]
  },
  {
   "cell_type": "code",
   "execution_count": 32,
   "metadata": {},
   "outputs": [],
   "source": [
    "result = file+\".randomseq.tsv\"\n",
    "writer_result = open(result,\"w\")\n",
    "for index in a:\n",
    "    writer_result.write(res[index])\n",
    "writer_result.close()"
   ]
  },
  {
   "cell_type": "code",
   "execution_count": null,
   "metadata": {},
   "outputs": [],
   "source": []
  },
  {
   "cell_type": "code",
   "execution_count": null,
   "metadata": {},
   "outputs": [],
   "source": []
  },
  {
   "cell_type": "code",
   "execution_count": 42,
   "metadata": {},
   "outputs": [],
   "source": [
    "file = \"LP.result.4000\"\n",
    "path = \"random/\"+file\n",
    "cand = path+\".candidate\"\n",
    "gold = path+\".gold\""
   ]
  },
  {
   "cell_type": "code",
   "execution_count": 43,
   "metadata": {},
   "outputs": [],
   "source": [
    "reader_cand = open(cand)\n",
    "\n",
    "res = []\n",
    "count = 0\n",
    "\n",
    "while True:\n",
    "    cand_line = reader_cand.readline().replace(\"\\n\",\"\")\n",
    "    if not cand_line:\n",
    "        break\n",
    "\n",
    "    count += 1\n",
    "    res.append(len(cand_line.split(\" \")))  \n",
    "\n",
    "reader_cand.close()"
   ]
  },
  {
   "cell_type": "code",
   "execution_count": 89,
   "metadata": {},
   "outputs": [],
   "source": [
    "import matplotlib.pyplot as plt\n",
    "def plot_hist(data, bins, title, xlabel, ylabel):\n",
    "    plt.hist(data, bins=bins, histtype=\"bar\", rwidth=0.9, alpha=0.6)\n",
    "    plt.title(title)\n",
    "    plt.xlabel(xlabel)\n",
    "    plt.ylabel(ylabel)\n",
    "    plt.show()\n",
    "def plot_box(data, title=\"\", xlabel=\"\", ylabel=\"\"):\n",
    "    print(\"Range:\", \"({}, {})\".format(min(data), max(data)))\n",
    "    print(\"  Avg:\", sum(data)/len(data))\n",
    "    plt.boxplot(data, vert=False)\n",
    "    plt.title(title)\n",
    "    plt.xlabel(xlabel)\n",
    "    plt.ylabel(ylabel)\n",
    "    plt.show()\n",
    "def plot_stat(data, bins=None, describe=\"\"):\n",
    "    plot_box(data, \"Box: \"+describe, \"count\", describe)\n",
    "    plot_hist(data, bins, \"Hist: \"+describe, describe, \"count\")"
   ]
  },
  {
   "cell_type": "code",
   "execution_count": 45,
   "metadata": {},
   "outputs": [
    {
     "name": "stdout",
     "output_type": "stream",
     "text": [
      "Range: (1, 9)\n",
      "  Avg: 3.9223356009070294\n"
     ]
    },
    {
     "data": {
      "image/png": "[encoded data removed]",
      "text/plain": [
       "<Figure size 432x288 with 1 Axes>"
      ]
     },
     "metadata": {
      "needs_background": "light"
     },
     "output_type": "display_data"
    },
    {
     "data": {
      "image/png": "[encoded data removed]",
      "text/plain": [
       "<Figure size 432x288 with 1 Axes>"
      ]
     },
     "metadata": {
      "needs_background": "light"
     },
     "output_type": "display_data"
    }
   ],
   "source": [
    "plot_stat(res, range(0, 35, 1), \"# token per subtitle\")"
   ]
  },
  {
   "cell_type": "code",
   "execution_count": null,
   "metadata": {},
   "outputs": [],
   "source": []
  },
  {
   "cell_type": "code",
   "execution_count": 41,
   "metadata": {},
   "outputs": [
    {
     "name": "stdout",
     "output_type": "stream",
     "text": [
      "Range: (3, 49)\n",
      "  Avg: 22.40185387131952\n"
     ]
    },
    {
     "data": {
      "image/png": "[encoded data removed]",
      "text/plain": [
       "<Figure size 432x288 with 1 Axes>"
      ]
     },
     "metadata": {
      "needs_background": "light"
     },
     "output_type": "display_data"
    },
    {
     "data": {
      "image/png": "[encoded data removed]",
      "text/plain": [
       "<Figure size 432x288 with 1 Axes>"
      ]
     },
     "metadata": {
      "needs_background": "light"
     },
     "output_type": "display_data"
    }
   ],
   "source": [
    "plot_stat(res, range(0, 35, 1), \"# token per subtitle\")"
   ]
  },
  {
   "cell_type": "code",
   "execution_count": null,
   "metadata": {},
   "outputs": [],
   "source": []
  },
  {
   "cell_type": "markdown",
   "metadata": {},
   "source": [
    "### 重复单词在原文中的出现频率"
   ]
  },
  {
   "cell_type": "code",
   "execution_count": 56,
   "metadata": {},
   "outputs": [],
   "source": [
    "file = \"LP.result.4000\"\n",
    "path = \"random/\"+file\n",
    "cand = path+\".candidate\"\n",
    "gold = path+\".gold\"\n",
    "raw = path+\".raw_src\""
   ]
  },
  {
   "cell_type": "code",
   "execution_count": 71,
   "metadata": {},
   "outputs": [],
   "source": [
    "cand_line = {'dis',\n",
    " 'eq',\n",
    " 'mag',\n",
    " 'news'}"
   ]
  },
  {
   "cell_type": "code",
   "execution_count": 69,
   "metadata": {},
   "outputs": [
    {
     "data": {
      "text/plain": [
       "{'3',\n",
       " '4',\n",
       " ':',\n",
       " '[',\n",
       " ']',\n",
       " 'edis',\n",
       " 'eq',\n",
       " 'mag',\n",
       " 'news',\n",
       " 'statewide',\n",
       " 'washington'}"
      ]
     },
     "execution_count": 69,
     "metadata": {},
     "output_type": "execute_result"
    }
   ],
   "source": [
    "token_gold"
   ]
  },
  {
   "cell_type": "code",
   "execution_count": 116,
   "metadata": {},
   "outputs": [],
   "source": [
    "reader_cand = open(cand)\n",
    "reader_gold = open(gold)\n",
    "reader_raw = open(raw)\n",
    "\n",
    "result_inin = []\n",
    "result_outout = []\n",
    "\n",
    "count = 0\n",
    "\n",
    "while True:  \n",
    "    cand_line = reader_cand.readline().replace(\"\\n\",\"\")\n",
    "    gold_line = reader_gold.readline().replace(\"\\n\",\"\")\n",
    "    raw_line = reader_raw.readline().replace(\"\\n\",\"\")\n",
    "    if not cand_line:\n",
    "        break\n",
    "        \n",
    "    inin = 0\n",
    "    incount = 0\n",
    "    outout = 0\n",
    "    outcount = 0\n",
    "\n",
    "    count += 1\n",
    "    token_cand = one_gram(cand_line,\" \")\n",
    "    token_gold = one_gram(gold_line,\" \")\n",
    "    token_raw = one_gram(raw_line,\" \")\n",
    "    \n",
    "   \n",
    "    for token in token_gold:\n",
    "        if token in token_cand:\n",
    "            incount += 1\n",
    "            if token in token_raw:\n",
    "                inin += 1\n",
    "        else:\n",
    "            outcount += 1\n",
    "            if token not in token_raw:\n",
    "                outout += 1\n",
    "    \n",
    "    if incount != 0:\n",
    "        result_inin.append(inin/incount)\n",
    "    if outcount != 0:\n",
    "        result_outout.append(outout/outcount)\n",
    "    \n",
    "reader_cand.close()\n",
    "reader_gold.close()\n",
    "reader_raw.close()"
   ]
  },
  {
   "cell_type": "code",
   "execution_count": 123,
   "metadata": {},
   "outputs": [
    {
     "name": "stdout",
     "output_type": "stream",
     "text": [
      "Range: (0.0, 1.0)\n",
      "  Avg: 0.5261247441189296\n"
     ]
    },
    {
     "data": {
      "image/png": "[encoded data removed]",
      "text/plain": [
       "<Figure size 432x288 with 1 Axes>"
      ]
     },
     "metadata": {
      "needs_background": "light"
     },
     "output_type": "display_data"
    },
    {
     "data": {
      "image/png": "[encoded data removed]",
      "text/plain": [
       "<Figure size 432x288 with 1 Axes>"
      ]
     },
     "metadata": {
      "needs_background": "light"
     },
     "output_type": "display_data"
    }
   ],
   "source": [
    "plot_stat(result_outout, None, \"% of tokens in the gold suject line \\n not included in both of the generated subject line \\n and the email body\")"
   ]
  },
  {
   "cell_type": "code",
   "execution_count": 124,
   "metadata": {},
   "outputs": [
    {
     "name": "stdout",
     "output_type": "stream",
     "text": [
      "Range: (0.0, 1.0)\n",
      "  Avg: 0.6255956780347026\n"
     ]
    },
    {
     "data": {
      "image/png": "[encoded data removed]",
      "text/plain": [
       "<Figure size 432x288 with 1 Axes>"
      ]
     },
     "metadata": {
      "needs_background": "light"
     },
     "output_type": "display_data"
    },
    {
     "data": {
      "image/png": "[encoded data removed]",
      "text/plain": [
       "<Figure size 432x288 with 1 Axes>"
      ]
     },
     "metadata": {
      "needs_background": "light"
     },
     "output_type": "display_data"
    }
   ],
   "source": [
    "plot_stat(result_inin, None, \"% of tokens in the gold suject line \\n included in both of the generated subject line \\n and the email body\")"
   ]
  }
 ],
 "metadata": {
  "kernelspec": {
   "display_name": "Python 3",
   "language": "python",
   "name": "python3"
  },
  "language_info": {
   "codemirror_mode": {
    "name": "ipython",
    "version": 3
   },
   "file_extension": ".py",
   "mimetype": "text/x-python",
   "name": "python",
   "nbconvert_exporter": "python",
   "pygments_lexer": "ipython3",
   "version": "3.7.4"
  }
 },
 "nbformat": 4,
 "nbformat_minor": 4
}
