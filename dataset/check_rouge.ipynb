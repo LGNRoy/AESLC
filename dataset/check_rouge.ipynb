{
 "cells": [
  {
   "cell_type": "code",
   "execution_count": 18,
   "metadata": {},
   "outputs": [],
   "source": [
    "import re"
   ]
  },
  {
   "cell_type": "code",
   "execution_count": 19,
   "metadata": {},
   "outputs": [],
   "source": [
    "non_word_char_in_word = re.compile(r\"(?<=\\w)\\W(?=\\w)\")\n",
    "not_for_output = {'<PAD>', '<SOS>', '<EOS>', '<UNK>'}"
   ]
  },
  {
   "cell_type": "code",
   "execution_count": 20,
   "metadata": {},
   "outputs": [],
   "source": [
    "def format_tokens(tokens: list, newline: str= '<P>', for_rouge: bool=False) -> str:\n",
    "  \"\"\"Join output `tokens` for ROUGE evaluation.\"\"\"\n",
    "  tokens = filter(lambda t: t not in not_for_output, tokens)\n",
    "  if for_rouge:\n",
    "    tokens = [non_word_char_in_word.sub(\"\", t) for t in tokens]  # \"n't\" => \"nt\"\n",
    "  if newline is None:\n",
    "    s = ' '.join(tokens)\n",
    "  else:  # replace newline tokens by newlines\n",
    "    lines, line = [], []\n",
    "    for tok in tokens:\n",
    "      if tok == newline:\n",
    "        if line: lines.append(\" \".join(line))\n",
    "        line = []\n",
    "      else:\n",
    "        line.append(tok)\n",
    "    if line: lines.append(\" \".join(line))\n",
    "    s = '\\n'.join(lines)\n",
    "  return s"
   ]
  },
  {
   "cell_type": "code",
   "execution_count": 42,
   "metadata": {},
   "outputs": [],
   "source": [
    "def rouge(target, predictions):\n",
    "    result = []\n",
    "    for i, tgt_tokens in enumerate(target):\n",
    "        gold_tokens = format_tokens(tgt_tokens, for_rouge=True).split(\" \")\n",
    "        pred_tokens = format_tokens(predictions[i], for_rouge=True).split(\" \")\n",
    "        p = 0\n",
    "        r = 0\n",
    "        for gold in gold_tokens:\n",
    "            if gold in pred_tokens:\n",
    "                r += 1\n",
    "        r /= len(gold_tokens)\n",
    "        \n",
    "        for pred in pred_tokens:\n",
    "            if pred in gold_tokens:\n",
    "                p += 1\n",
    "                print(pred, p)\n",
    "        p /= len(pred_tokens)\n",
    "\n",
    "        f = (2*p*r)/(p+r+1e-8)\n",
    "        result.append({'1_f':f,'1_r':r,'1_p':p})\n",
    "    return result"
   ]
  },
  {
   "cell_type": "code",
   "execution_count": 43,
   "metadata": {},
   "outputs": [
    {
     "name": "stdout",
     "output_type": "stream",
     "text": [
      "['and', 'tick', 'the', 'labels', 'rotate']\n",
      "['the', 'labels', 'rotate', 'tick']\n",
      "tick 1\n",
      "the 2\n",
      "labels 3\n",
      "rotate 4\n",
      "the 1\n",
      "labels 2\n",
      "rotate 3\n",
      "tick 4\n"
     ]
    },
    {
     "data": {
      "text/plain": [
       "[{'l_f': 0.8888888839506174, 'l_r': 0.8, 'l_p': 1.0}]"
      ]
     },
     "execution_count": 43,
     "metadata": {},
     "output_type": "execute_result"
    }
   ],
   "source": [
    "rouge([one_gram(\"rotate the tick labels and\",\" \")], [one_gram(\"rotate the tick labels\",\" \")])"
   ]
  },
  {
   "cell_type": "code",
   "execution_count": 2,
   "metadata": {},
   "outputs": [],
   "source": [
    "def cal_rouge(evaluated_ngrams, reference_ngrams):\n",
    "    reference_count = len(reference_ngrams)\n",
    "    evaluated_count = len(evaluated_ngrams)\n",
    "\n",
    "    overlapping_ngrams = evaluated_ngrams.intersection(reference_ngrams)\n",
    "    overlapping_count = len(overlapping_ngrams)\n",
    "\n",
    "    if evaluated_count == 0:\n",
    "        precision = 0.0\n",
    "    else:\n",
    "        precision = overlapping_count / evaluated_count\n",
    "\n",
    "    if reference_count == 0:\n",
    "        recall = 0.0\n",
    "    else:\n",
    "        recall = overlapping_count / reference_count\n",
    "\n",
    "    f1_score = 2.0 * ((precision * recall) / (precision + recall + 1e-8))\n",
    "    return {\"f\": f1_score, \"p\": precision, \"r\": recall}"
   ]
  },
  {
   "cell_type": "code",
   "execution_count": 3,
   "metadata": {},
   "outputs": [],
   "source": [
    "def one_gram(sent, sep=\"<tokesep>\"):\n",
    "    return set(sent.split(sep)) \n",
    "def two_gram(sent, sep=\"<tokesep>\"):\n",
    "    last = \"\"\n",
    "    grams = []\n",
    "    first = True\n",
    "    for word in sent.split(sep):\n",
    "        if first:\n",
    "            first = False\n",
    "        else:\n",
    "            grams.append(\"{} {}\".format(last, word))\n",
    "        last = word\n",
    "    return set(grams)"
   ]
  },
  {
   "cell_type": "code",
   "execution_count": 9,
   "metadata": {},
   "outputs": [
    {
     "data": {
      "text/plain": [
       "{'f': 0.8888888839506174, 'p': 0.8, 'r': 1.0}"
      ]
     },
     "execution_count": 9,
     "metadata": {},
     "output_type": "execute_result"
    }
   ],
   "source": [
    "cal_rouge(one_gram(\"rotate the tick labels and\",\" \"), one_gram(\"rotate the tick labels\",\" \"))"
   ]
  },
  {
   "cell_type": "code",
   "execution_count": 5,
   "metadata": {},
   "outputs": [],
   "source": [
    "path = \"tokened/test\"\n",
    "sub_path = path+\"_token_sub.txt\"\n",
    "doc_path = path+\"_token_doc.txt\"    \n",
    "reader_sub = open(sub_path)\n",
    "reader_doc = open(doc_path)\n",
    "\n",
    "rouge_max = {\"1_gram\":[], \"2_gram\":[]}\n",
    "while True:\n",
    "    doc_token = reader_doc.readline().replace(\"\\n\",\"\")\n",
    "    sub_token = reader_sub.readline().replace(\"\\n\",\"\")\n",
    "    if not doc_token:\n",
    "        reader_doc.close()\n",
    "        reader_sub.close()\n",
    "        break\n",
    "    \n",
    "    target = sub_token.replace(\"<sentsep>\", \"<tokesep>\")\n",
    "    gram_max_f_1 = 0\n",
    "    gram_max_cache_1 = {'f':0, 'p':0, 'r':0}\n",
    "    gram_max_f_2 = 0\n",
    "    gram_max_cache_2 = {'f':0, 'p':0, 'r':0}\n",
    "    for index, sent in enumerate(doc_token.split(\"<sentsep>\")):\n",
    "        gram_1 = cal_rouge(one_gram(sent), one_gram(target))\n",
    "        if gram_1['f'] > gram_max_f_1:\n",
    "            gram_max_cache_1 = gram_1\n",
    "            gram_max_f_1 = gram_1['f']\n",
    "        gram_2 = cal_rouge(two_gram(sent), two_gram(target))\n",
    "        if gram_2['f'] > gram_max_f_2:\n",
    "            gram_max_cache_2 = gram_2 \n",
    "            gram_max_f_2 = gram_2['f']\n",
    "    rouge_max[\"1_gram\"].append([gram_max_cache_1['f'],\n",
    "                               gram_max_cache_1['p'],\n",
    "                               gram_max_cache_1['r']])\n",
    "    rouge_max[\"2_gram\"].append([gram_max_cache_2['f'],\n",
    "                               gram_max_cache_2['p'],\n",
    "                               gram_max_cache_2['r']])\n",
    "#     rouge_max[\"1_gram\"].append(gram_max_f_1)\n",
    "#     rouge_max[\"2_gram\"].append(gram_max_f_2)\n",
    "\n",
    "reader_doc.close()\n",
    "reader_sub.close()"
   ]
  },
  {
   "cell_type": "code",
   "execution_count": 13,
   "metadata": {},
   "outputs": [],
   "source": [
    "res = np.array(rouge_max['1_gram'])"
   ]
  },
  {
   "cell_type": "code",
   "execution_count": 17,
   "metadata": {},
   "outputs": [
    {
     "data": {
      "text/plain": [
       "array([0.15000229, 0.11877597, 0.34643681])"
      ]
     },
     "execution_count": 17,
     "metadata": {},
     "output_type": "execute_result"
    }
   ],
   "source": [
    "np.sum(res, axis = 0)/res.shape[0]"
   ]
  },
  {
   "cell_type": "code",
   "execution_count": 16,
   "metadata": {},
   "outputs": [
    {
     "data": {
      "text/plain": [
       "(1906, 3)"
      ]
     },
     "execution_count": 16,
     "metadata": {},
     "output_type": "execute_result"
    }
   ],
   "source": []
  },
  {
   "cell_type": "code",
   "execution_count": 9,
   "metadata": {},
   "outputs": [],
   "source": [
    "import numpy as np"
   ]
  },
  {
   "cell_type": "code",
   "execution_count": 67,
   "metadata": {},
   "outputs": [],
   "source": [
    "gram_1 = np.array(rouge_max['1_gram'])\n",
    "gram_2 = np.array(rouge_max['2_gram'])"
   ]
  },
  {
   "cell_type": "code",
   "execution_count": 68,
   "metadata": {},
   "outputs": [],
   "source": [
    "import matplotlib.pyplot as plt\n",
    "def plot_hist(data, bins, title, xlabel, ylabel):\n",
    "    plt.hist(data, bins=bins, histtype=\"bar\", rwidth=0.9, alpha=0.6)\n",
    "    plt.title(title)\n",
    "    plt.xlabel(xlabel)\n",
    "    plt.ylabel(ylabel)\n",
    "    plt.show()\n",
    "def plot_box(data, title=\"\", xlabel=\"\", ylabel=\"\"):\n",
    "    print(\"Range:\", \"({}, {})\".format(min(data), max(data)))\n",
    "    print(\"  Avg:\", sum(data)/len(data))\n",
    "    plt.boxplot(data, vert=False)\n",
    "    plt.title(title)\n",
    "    plt.xlabel(xlabel)\n",
    "    plt.ylabel(ylabel)\n",
    "    plt.show()\n",
    "def plot_stat(data, bins=None, describe=\"\"):\n",
    "    plot_box(data, \"Box: \"+describe, \"count\", describe)\n",
    "    plot_hist(data, bins, \"Hist: \"+describe, describe, \"dount\")"
   ]
  },
  {
   "cell_type": "code",
   "execution_count": 69,
   "metadata": {},
   "outputs": [
    {
     "name": "stdout",
     "output_type": "stream",
     "text": [
      "Range: (0.0, 0.999999995)\n",
      "  Avg: 0.15000229035763518\n"
     ]
    },
    {
     "data": {
      "image/png": "[encoded data removed]",
      "text/plain": [
       "<Figure size 432x288 with 1 Axes>"
      ]
     },
     "metadata": {
      "needs_background": "light"
     },
     "output_type": "display_data"
    },
    {
     "data": {
      "image/png": "[encoded data removed]",
      "text/plain": [
       "<Figure size 432x288 with 1 Axes>"
      ]
     },
     "metadata": {
      "needs_background": "light"
     },
     "output_type": "display_data"
    }
   ],
   "source": [
    "plot_stat(gram_1, None, \"Max ROUGE_1 in document\")"
   ]
  },
  {
   "cell_type": "code",
   "execution_count": 70,
   "metadata": {},
   "outputs": [
    {
     "name": "stdout",
     "output_type": "stream",
     "text": [
      "Range: (0.0, 0.999999995)\n",
      "  Avg: 0.053776097529671975\n"
     ]
    },
    {
     "data": {
      "image/png": "[encoded data removed]",
      "text/plain": [
       "<Figure size 432x288 with 1 Axes>"
      ]
     },
     "metadata": {
      "needs_background": "light"
     },
     "output_type": "display_data"
    },
    {
     "data": {
      "image/png": "[encoded data removed]",
      "text/plain": [
       "<Figure size 432x288 with 1 Axes>"
      ]
     },
     "metadata": {
      "needs_background": "light"
     },
     "output_type": "display_data"
    }
   ],
   "source": [
    "plot_stat(gram_2, None, \"Max ROUGE_2 in document\")"
   ]
  },
  {
   "cell_type": "code",
   "execution_count": 71,
   "metadata": {},
   "outputs": [
    {
     "data": {
      "text/plain": [
       "0.19989506820566633"
      ]
     },
     "execution_count": 71,
     "metadata": {},
     "output_type": "execute_result"
    }
   ],
   "source": [
    "sum(gram_1>0.25)/len(gram_1)"
   ]
  },
  {
   "cell_type": "code",
   "execution_count": null,
   "metadata": {},
   "outputs": [],
   "source": []
  }
 ],
 "metadata": {
  "kernelspec": {
   "display_name": "Python 3",
   "language": "python",
   "name": "python3"
  },
  "language_info": {
   "codemirror_mode": {
    "name": "ipython",
    "version": 3
   },
   "file_extension": ".py",
   "mimetype": "text/x-python",
   "name": "python",
   "nbconvert_exporter": "python",
   "pygments_lexer": "ipython3",
   "version": "3.7.4"
  }
 },
 "nbformat": 4,
 "nbformat_minor": 4
}
