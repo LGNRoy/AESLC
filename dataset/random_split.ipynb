{
 "cells": [
  {
   "cell_type": "code",
   "execution_count": 26,
   "metadata": {},
   "outputs": [],
   "source": [
    "dataset = []\n",
    "sep = \"<sep>\"\n",
    "for field in [\"dev\",\"train\",\"test\"]:\n",
    "    path = \"raw/\"+field+\"_raw_\"\n",
    "\n",
    "    sub_path = path+\"sub.txt\"\n",
    "    doc_path = path+\"doc.txt\"\n",
    "    nme_path = path+\"nme.txt\"\n",
    "    reader_sub = open(sub_path)\n",
    "    reader_doc = open(doc_path)\n",
    "    reader_nme = open(nme_path)\n",
    "\n",
    "    while True:\n",
    "        doc_token = reader_doc.readline().rstrip()\n",
    "        sub_token = reader_sub.readline().rstrip()\n",
    "        nme_token = sep.join(reader_nme.readline().rstrip().split(\"\\t\"))\n",
    "        dataset.append(doc_token+sep+sub_token+sep+nme_token)\n",
    "\n",
    "        if not doc_token:\n",
    "            reader_doc.close()\n",
    "            reader_sub.close()\n",
    "            reader_nme.close()\n",
    "            break\n",
    "\n",
    "    reader_doc.close()\n",
    "    reader_sub.close()\n",
    "    reader_nme.close()"
   ]
  },
  {
   "cell_type": "code",
   "execution_count": 75,
   "metadata": {},
   "outputs": [],
   "source": [
    "writer = open(\"random_raw/full.txt\",\"w\")"
   ]
  },
  {
   "cell_type": "code",
   "execution_count": 73,
   "metadata": {},
   "outputs": [],
   "source": []
  },
  {
   "cell_type": "code",
   "execution_count": 76,
   "metadata": {},
   "outputs": [],
   "source": [
    "for line in dataset:\n",
    "    writer.write(line+\"\\n\")\n",
    "writer.close()"
   ]
  },
  {
   "cell_type": "code",
   "execution_count": 27,
   "metadata": {},
   "outputs": [],
   "source": [
    "import numpy as np"
   ]
  },
  {
   "cell_type": "code",
   "execution_count": 80,
   "metadata": {},
   "outputs": [],
   "source": [
    "data = np.array(dataset[:-1])\n",
    "length = len(dataset[:-1])"
   ]
  },
  {
   "cell_type": "code",
   "execution_count": 81,
   "metadata": {},
   "outputs": [
    {
     "data": {
      "text/plain": [
       "16473.600000000002"
      ]
     },
     "execution_count": 81,
     "metadata": {},
     "output_type": "execute_result"
    }
   ],
   "source": [
    "length*0.9"
   ]
  },
  {
   "cell_type": "code",
   "execution_count": 82,
   "metadata": {},
   "outputs": [],
   "source": [
    "np.random.shuffle(data)"
   ]
  },
  {
   "cell_type": "code",
   "execution_count": 83,
   "metadata": {},
   "outputs": [],
   "source": [
    "train = data[:14644]\n",
    "test  = data[14644:16475]\n",
    "valid = data[16475:]"
   ]
  },
  {
   "cell_type": "code",
   "execution_count": 85,
   "metadata": {},
   "outputs": [
    {
     "data": {
      "text/plain": [
       "[\"Greg,  Attached is a redlined version  of the interconnect agreement with  their comments incorporated. I did make some revision to their comments,   please review and if OK forward to Brazos Valley or their reps.    Do we have any concerns from a credit standing concerning this LP. I don't  know the magnitude of cost on the HPL Facilities, but we need to make sure we  don't get stuck with their cost. Might want to ask for cash up front with a  make whole once the facilities are completed. I haven't made any changes to  reflects. Thoughts?\",\n",
       " 'Brazos Valley',\n",
       " 'nemec-g',\n",
       " 'sent',\n",
       " '2470']"
      ]
     },
     "execution_count": 85,
     "metadata": {},
     "output_type": "execute_result"
    }
   ],
   "source": [
    "train[0].split(sep)"
   ]
  },
  {
   "cell_type": "code",
   "execution_count": null,
   "metadata": {},
   "outputs": [],
   "source": [
    "writer = open(\"random_raw/train.aselc.txt\",\"w\")\n",
    "for line in train:\n",
    "    cols = line.split(sep)\n",
    "    writer.write(cols[0]+\"\\t\"+cols[1]+\"\\n\")\n",
    "writer.close()"
   ]
  },
  {
   "cell_type": "code",
   "execution_count": null,
   "metadata": {},
   "outputs": [],
   "source": [
    "writer = open(\"random_raw/test.aselc.txt\",\"w\")\n",
    "for line in test:\n",
    "    cols = line.split(sep)\n",
    "    writer.write(cols[0]+\"\\t\"+cols[1]+\"\\n\")\n",
    "writer.close()"
   ]
  },
  {
   "cell_type": "code",
   "execution_count": 89,
   "metadata": {},
   "outputs": [],
   "source": [
    "writer = open(\"random_raw/dev.aselc.txt\",\"w\")\n",
    "for line in valid:\n",
    "    cols = line.split(sep)\n",
    "    writer.write(cols[0]+\"\\t\"+cols[1]+\"\\n\")\n",
    "writer.close()"
   ]
  }
 ],
 "metadata": {
  "kernelspec": {
   "display_name": "Python 3",
   "language": "python",
   "name": "python3"
  },
  "language_info": {
   "codemirror_mode": {
    "name": "ipython",
    "version": 3
   },
   "file_extension": ".py",
   "mimetype": "text/x-python",
   "name": "python",
   "nbconvert_exporter": "python",
   "pygments_lexer": "ipython3",
   "version": "3.7.3"
  }
 },
 "nbformat": 4,
 "nbformat_minor": 2
}
