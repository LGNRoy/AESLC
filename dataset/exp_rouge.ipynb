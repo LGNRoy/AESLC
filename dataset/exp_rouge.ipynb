{
 "cells": [
  {
   "cell_type": "code",
   "execution_count": 10,
   "metadata": {},
   "outputs": [],
   "source": [
    "doc_token = \"Enron<tokesep>Security<tokesep>Letters\""
   ]
  },
  {
   "cell_type": "code",
   "execution_count": 11,
   "metadata": {},
   "outputs": [
    {
     "data": {
      "text/plain": [
       "[['Enron', 'Security', 'Letters']]"
      ]
     },
     "execution_count": 11,
     "metadata": {},
     "output_type": "execute_result"
    }
   ],
   "source": [
    "[\" \".join(sent.split(\"<tokesep>\")).split() for sent in doc_token.split(\"<sentsep>\")]"
   ]
  },
  {
   "cell_type": "code",
   "execution_count": 21,
   "metadata": {},
   "outputs": [],
   "source": [
    "doc = \"Attached<tokesep>for<tokesep>your<tokesep>review<tokesep>and<tokesep>comments<tokesep>is<tokesep>a<tokesep>revised<tokesep>Confirmation<tokesep>for<tokesep>the<tokesep>EES<tokesep>Weather<tokesep><tokesep>snowfall<tokesep>cap<tokesep>option<tokesep><tokesep>product<tokesep><sentsep><tokesep>I<tokesep>have<tokesep>also<tokesep>attached<tokesep>a<tokesep>blackline<tokesep>against<tokesep>the<tokesep>last<tokesep>draft<tokesep>distributed<tokesep><tokesep>as<tokesep>well<tokesep>as<tokesep>a<tokesep>copy<tokesep>of<tokesep>the<tokesep>last<tokesep>Terms<tokesep>and<tokesep>Conditions<tokesep>distributed<tokesep><tokesep>unchanged<tokesep>from<tokesep>prior<tokesep>draft<tokesep><tokesep>and<tokesep>the<tokesep>Credit<tokesep>Support<tokesep>Annex<tokesep><tokesep>also<tokesep>unchanged<tokesep>from<tokesep>prior<tokesep>draft<tokesep><tokesep><sentsep><tokesep>Unless<tokesep>informed<tokesep>otherwise<tokesep><tokesep>this<tokesep>product<tokesep>is<tokesep>scheduled<tokesep>for<tokesep>release<tokesep>no<tokesep>later<tokesep>than<tokesep>tomorrow<tokesep>so<tokesep>kindly<tokesep>send<tokesep>any<tokesep>comments<tokesep>to<tokesep>my<tokesep>attention<tokesep>ASAP<tokesep><tokesep>or<tokesep>let<tokesep>me<tokesep>know<tokesep>if<tokesep>you<tokesep>require<tokesep>additional<tokesep>review<tokesep>time<tokesep><sentsep><tokesep>Please<tokesep>note<tokesep>also<tokesep>that<tokesep>the<tokesep>foregoing<tokesep>is<tokesep>not<tokesep>intended<tokesep>to<tokesep>imply<tokesep>that<tokesep>other<tokesep>procedures<tokesep>and<tokesep>approvals<tokesep><tokesep>eg<tokesep>RAC<tokesep>Approval<tokesep><tokesep><tokesep>if<tokesep>any<tokesep><tokesep>required<tokesep>for<tokesep>the<tokesep>introduction<tokesep>of<tokesep>new<tokesep>products<tokesep>by<tokesep>EES<tokesep><tokesep><tokesep>EWS<tokesep><tokesep>policies<tokesep>have<tokesep>been<tokesep>completed<tokesep><sentsep><tokesep>Thanks<tokesep>\"\n",
    "sub = \"Revised<tokesep>Weather<tokesep>Products\""
   ]
  },
  {
   "cell_type": "code",
   "execution_count": 22,
   "metadata": {},
   "outputs": [
    {
     "name": "stdout",
     "output_type": "stream",
     "text": [
      "0.09523809278911571 {'comments', 'the', 'and', '', 'Attached', 'a', 'for', 'EES', 'Confirmation', 'product', 'Weather', 'review', 'revised', 'option', 'your', 'cap', 'is', 'snowfall'} {'Products', 'Weather', 'Revised'}\n",
      "0.0 {'', 'and', 'Annex', 'Conditions', 'Support', 'copy', 'the', 'attached', 'against', 'distributed', 'as', 'also', 'blackline', 'have', 'unchanged', 'of', 'Credit', 'prior', 'I', 'well', 'last', 'Terms', 'draft', 'from', 'a'} {'Products', 'Weather', 'Revised'}\n",
      "0.0 {'', 'time', 'product', 'send', 'later', 'to', 'tomorrow', 'attention', 'ASAP', 'me', 'for', 'no', 'Unless', 'is', 'comments', 'any', 'you', 'scheduled', 'informed', 'review', 'let', 'know', 'if', 'additional', 'or', 'otherwise', 'kindly', 'this', 'release', 'than', 'my', 'require', 'so'} {'Products', 'Weather', 'Revised'}\n",
      "0.0 {'', 'and', 'Approval', 'introduction', 'by', 'policies', 'RAC', 'products', 'the', 'to', 'intended', 'imply', 'for', 'note', 'procedures', 'is', 'that', 'eg', 'any', 'not', 'also', 'completed', 'have', 'approvals', 'required', 'of', 'if', 'EWS', 'foregoing', 'EES', 'other', 'been', 'Please', 'new'} {'Products', 'Weather', 'Revised'}\n",
      "0.0 {'', 'Thanks'} {'Products', 'Weather', 'Revised'}\n"
     ]
    },
    {
     "data": {
      "text/plain": [
       "[1, 2, 0]"
      ]
     },
     "execution_count": 22,
     "metadata": {},
     "output_type": "execute_result"
    }
   ],
   "source": [
    "greedy_selection(doc, sub, 3)"
   ]
  },
  {
   "cell_type": "code",
   "execution_count": 20,
   "metadata": {},
   "outputs": [],
   "source": [
    "def cal_rouge(evaluated_ngrams, reference_ngrams):\n",
    "    reference_count = len(reference_ngrams)\n",
    "    evaluated_count = len(evaluated_ngrams)\n",
    "\n",
    "    overlapping_ngrams = evaluated_ngrams.intersection(reference_ngrams)\n",
    "    overlapping_count = len(overlapping_ngrams)\n",
    "\n",
    "    if evaluated_count == 0:\n",
    "        precision = 0.0\n",
    "    else:\n",
    "        precision = overlapping_count / evaluated_count\n",
    "\n",
    "    if reference_count == 0:\n",
    "        recall = 0.0\n",
    "    else:\n",
    "        recall = overlapping_count / reference_count\n",
    "\n",
    "    f1_score = 2.0 * ((precision * recall) / (precision + recall + 1e-8))\n",
    "    return {\"f\": f1_score, \"p\": precision, \"r\": recall}\n",
    "\n",
    "def one_gram(sent, sep=\" \"):\n",
    "    return set(sent.split(sep)) \n",
    "def two_gram(sent, sep=\" \"):\n",
    "    last = \"\"\n",
    "    grams = []\n",
    "    first = True\n",
    "    for word in sent.split(sep):\n",
    "        if first:\n",
    "            first = False\n",
    "        else:\n",
    "            grams.append(\"{} {}\".format(last, word))\n",
    "        last = word\n",
    "    return set(grams)\n",
    "def greedy_selection(doc, sub, summary_size):\n",
    "    \n",
    "    selected = []\n",
    "    sub_gram1 = one_gram(sub.replace(\"<sentsep>\",\"<tokesep>\"), sep=\"<tokesep>\")\n",
    "    sub_gram2 = two_gram(sub.replace(\"<sentsep>\",\"<tokesep>\"), sep=\"<tokesep>\")\n",
    "    \n",
    "    for index, sent in enumerate(doc.split(\"<sentsep>\")):\n",
    "        sent_gram1 = one_gram(sent, sep=\"<tokesep>\")\n",
    "        sent_gram2 = two_gram(sent, sep=\"<tokesep>\")\n",
    "        rouge_1 = cal_rouge(sub_gram1, sent_gram1)['f']\n",
    "        rouge_2 = cal_rouge(sub_gram2, sent_gram2)['f']\n",
    "        rouge = rouge_1 + rouge_2\n",
    "        print(rouge, sent_gram1, sub_gram1)\n",
    "        if len(selected) < 3:\n",
    "            selected.append((rouge, index))\n",
    "            selected.sort()\n",
    "            continue\n",
    "        if rouge > selected[0][0]:\n",
    "            selected[0] = (index, rouge)\n",
    "            selected.sort()\n",
    "    selected.sort()\n",
    "    return [index for _,index in selected]"
   ]
  },
  {
   "cell_type": "code",
   "execution_count": null,
   "metadata": {},
   "outputs": [],
   "source": []
  },
  {
   "cell_type": "code",
   "execution_count": null,
   "metadata": {},
   "outputs": [],
   "source": []
  },
  {
   "cell_type": "code",
   "execution_count": null,
   "metadata": {},
   "outputs": [],
   "source": []
  },
  {
   "cell_type": "code",
   "execution_count": 1,
   "metadata": {},
   "outputs": [],
   "source": [
    "def cal_rouge(evaluated_ngrams, reference_ngrams):\n",
    "    reference_count = len(reference_ngrams)\n",
    "    evaluated_count = len(evaluated_ngrams)\n",
    "\n",
    "    overlapping_ngrams = evaluated_ngrams.intersection(reference_ngrams)\n",
    "    overlapping_count = len(overlapping_ngrams)\n",
    "\n",
    "    if evaluated_count == 0:\n",
    "        precision = 0.0\n",
    "    else:\n",
    "        precision = overlapping_count / evaluated_count\n",
    "\n",
    "    if reference_count == 0:\n",
    "        recall = 0.0\n",
    "    else:\n",
    "        recall = overlapping_count / reference_count\n",
    "\n",
    "    f1_score = 2.0 * ((precision * recall) / (precision + recall + 1e-8))\n",
    "    return {\"f\": f1_score, \"p\": precision, \"r\": recall}"
   ]
  },
  {
   "cell_type": "code",
   "execution_count": 2,
   "metadata": {},
   "outputs": [],
   "source": [
    "def one_gram(sent, sep=\" \"):\n",
    "    return set(sent.split(sep)) \n",
    "def two_gram(sent, sep=\" \"):\n",
    "    last = \"\"\n",
    "    grams = []\n",
    "    first = True\n",
    "    for word in sent.split(sep):\n",
    "        if first:\n",
    "            first = False\n",
    "        else:\n",
    "            grams.append(\"{} {}\".format(last, word))\n",
    "        last = word\n",
    "    return set(grams)"
   ]
  },
  {
   "cell_type": "code",
   "execution_count": 3,
   "metadata": {},
   "outputs": [],
   "source": [
    "path = \"exp_result/ext_bert_aeslc_step18000\"\n",
    "sub_path = path+\".gold\"\n",
    "doc_path = path+\".candidate\"    \n",
    "reader_sub = open(sub_path)\n",
    "reader_doc = open(doc_path)\n",
    "\n",
    "rouge_max = {\"1_gram\":[], \"2_gram\":[]}\n",
    "while True:\n",
    "    doc_token = reader_doc.readline().replace(\"\\n\",\"\")\n",
    "    sub_token = reader_sub.readline().replace(\"\\n\",\"\")\n",
    "    if not doc_token:\n",
    "        reader_doc.close()\n",
    "        reader_sub.close()\n",
    "        break\n",
    "    \n",
    "    target = sub_token\n",
    "    gram_max_f_1 = 0\n",
    "    gram_max_cache_1 = {'f':0, 'p':0, 'r':0}\n",
    "    gram_max_f_2 = 0\n",
    "    gram_max_cache_2 = {'f':0, 'p':0, 'r':0}\n",
    "    for index, sent in enumerate(doc_token.split(\"<p>\")):\n",
    "        gram_1 = cal_rouge(one_gram(sent), one_gram(target))\n",
    "        if gram_1['f'] > gram_max_f_1:\n",
    "            gram_max_cache_1 = gram_1\n",
    "            gram_max_f_1 = gram_1['f']\n",
    "        gram_2 = cal_rouge(two_gram(sent), two_gram(target))\n",
    "        if gram_2['f'] > gram_max_f_2:\n",
    "            gram_max_cache_2 = gram_2 \n",
    "            gram_max_f_2 = gram_2['f']\n",
    "    rouge_max[\"1_gram\"].append([gram_max_cache_1['f'],\n",
    "                               gram_max_cache_1['p'],\n",
    "                               gram_max_cache_1['r']])\n",
    "    rouge_max[\"2_gram\"].append([gram_max_cache_2['f'],\n",
    "                               gram_max_cache_2['p'],\n",
    "                               gram_max_cache_2['r']])\n",
    "#     rouge_max[\"1_gram\"].append(gram_max_f_1)\n",
    "#     rouge_max[\"2_gram\"].append(gram_max_f_2)\n",
    "\n",
    "reader_doc.close()\n",
    "reader_sub.close()"
   ]
  },
  {
   "cell_type": "code",
   "execution_count": 4,
   "metadata": {},
   "outputs": [],
   "source": [
    "import numpy as np"
   ]
  },
  {
   "cell_type": "code",
   "execution_count": 5,
   "metadata": {},
   "outputs": [
    {
     "data": {
      "text/plain": [
       "array([0.09733577, 0.0566833 , 0.49793651])"
      ]
     },
     "execution_count": 5,
     "metadata": {},
     "output_type": "execute_result"
    }
   ],
   "source": [
    "res = np.array(rouge_max['1_gram'])\n",
    "np.sum(res, axis = 0)/res.shape[0]"
   ]
  },
  {
   "cell_type": "code",
   "execution_count": 6,
   "metadata": {},
   "outputs": [],
   "source": [
    "gram_1 = np.array(rouge_max['1_gram'])\n",
    "gram_2 = np.array(rouge_max['2_gram'])"
   ]
  },
  {
   "cell_type": "code",
   "execution_count": 8,
   "metadata": {},
   "outputs": [],
   "source": [
    "import matplotlib.pyplot as plt\n",
    "def plot_hist(data, bins, title, xlabel, ylabel):\n",
    "    plt.hist(data, bins=bins, histtype=\"bar\", rwidth=0.9, alpha=0.6)\n",
    "    plt.title(title)\n",
    "    plt.xlabel(xlabel)\n",
    "    plt.ylabel(ylabel)\n",
    "    plt.show()\n",
    "def plot_box(data, title=\"\", xlabel=\"\", ylabel=\"\"):\n",
    "    print(\"Range:\", \"({}, {})\".format(min(data), max(data)))\n",
    "    print(\"  Avg:\", sum(data)/len(data))\n",
    "    plt.boxplot(data, vert=False)\n",
    "    plt.title(title)\n",
    "    plt.xlabel(xlabel)\n",
    "    plt.ylabel(ylabel)\n",
    "    plt.show()\n",
    "def plot_stat(data, bins=None, describe=\"\"):\n",
    "    plot_box(data, \"Box: \"+describe, \"count\", describe)\n",
    "    plot_hist(data, bins, \"Hist: \"+describe, describe, \"dount\")"
   ]
  },
  {
   "cell_type": "code",
   "execution_count": 9,
   "metadata": {},
   "outputs": [
    {
     "name": "stdout",
     "output_type": "stream",
     "text": [
      "Range: (0.0, 0.5263157853601108)\n",
      "  Avg: 0.09733576826531493\n"
     ]
    },
    {
     "data": {
      "image/png": "[encoded data removed]",
      "text/plain": [
       "<Figure size 432x288 with 1 Axes>"
      ]
     },
     "metadata": {
      "needs_background": "light"
     },
     "output_type": "display_data"
    },
    {
     "data": {
      "image/png": "[encoded data removed]",
      "text/plain": [
       "<Figure size 432x288 with 1 Axes>"
      ]
     },
     "metadata": {
      "needs_background": "light"
     },
     "output_type": "display_data"
    }
   ],
   "source": [
    "plot_stat(gram_1, None, \"Max ROUGE_1 in document\")"
   ]
  },
  {
   "cell_type": "code",
   "execution_count": 10,
   "metadata": {},
   "outputs": [
    {
     "name": "stdout",
     "output_type": "stream",
     "text": [
      "Range: (0.0, 0.4615384577251808)\n",
      "  Avg: 0.03069475060956934\n"
     ]
    },
    {
     "data": {
      "image/png": "[encoded data removed]",
      "text/plain": [
       "<Figure size 432x288 with 1 Axes>"
      ]
     },
     "metadata": {
      "needs_background": "light"
     },
     "output_type": "display_data"
    },
    {
     "data": {
      "image/png": "[encoded data removed]",
      "text/plain": [
       "<Figure size 432x288 with 1 Axes>"
      ]
     },
     "metadata": {
      "needs_background": "light"
     },
     "output_type": "display_data"
    }
   ],
   "source": [
    "plot_stat(gram_2, None, \"Max ROUGE_2 in document\")"
   ]
  },
  {
   "cell_type": "code",
   "execution_count": 7,
   "metadata": {},
   "outputs": [
    {
     "data": {
      "text/plain": [
       "0.05613850996852046"
      ]
     },
     "execution_count": 7,
     "metadata": {},
     "output_type": "execute_result"
    }
   ],
   "source": [
    "sum(gram_1>0.25)/len(gram_1)"
   ]
  }
 ],
 "metadata": {
  "kernelspec": {
   "display_name": "Python 3",
   "language": "python",
   "name": "python3"
  },
  "language_info": {
   "codemirror_mode": {
    "name": "ipython",
    "version": 3
   },
   "file_extension": ".py",
   "mimetype": "text/x-python",
   "name": "python",
   "nbconvert_exporter": "python",
   "pygments_lexer": "ipython3",
   "version": "3.7.4"
  }
 },
 "nbformat": 4,
 "nbformat_minor": 4
}
