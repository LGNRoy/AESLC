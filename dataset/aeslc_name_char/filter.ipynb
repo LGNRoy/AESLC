{
 "cells": [
  {
   "cell_type": "code",
   "execution_count": 30,
   "metadata": {},
   "outputs": [],
   "source": [
    "filt = re.compile(\"[^a-z^A-Z]\")"
   ]
  },
  {
   "cell_type": "code",
   "execution_count": 31,
   "metadata": {},
   "outputs": [],
   "source": [
    "for domain in [\"dev\",\"test\",\"train\"]:\n",
    "    writer = open(\"AESLC_{}_token_filted_doc.txt\".format(domain), \"w\")\n",
    "    for line in open(\"../aeslc_name/random_tokened/AESLC_{}_token_doc.txt\".format(domain)):\n",
    "        se = []\n",
    "        for sent in line.split(\"<sentsep>\"):\n",
    "            wo = []\n",
    "            for word in sent.split(\"<tokesep>\"):\n",
    "                wo.append(filt.sub(\"\", word))\n",
    "            se.append(\"<tokesep>\".join(wo))\n",
    "        writer.write(\"<sentsep>\".join(se)+\"\\n\")\n",
    "    writer.close()"
   ]
  },
  {
   "cell_type": "code",
   "execution_count": null,
   "metadata": {},
   "outputs": [],
   "source": []
  },
  {
   "cell_type": "code",
   "execution_count": null,
   "metadata": {},
   "outputs": [],
   "source": []
  },
  {
   "cell_type": "code",
   "execution_count": null,
   "metadata": {},
   "outputs": [],
   "source": []
  }
 ],
 "metadata": {
  "kernelspec": {
   "display_name": "Python 3",
   "language": "python",
   "name": "python3"
  },
  "language_info": {
   "codemirror_mode": {
    "name": "ipython",
    "version": 3
   },
   "file_extension": ".py",
   "mimetype": "text/x-python",
   "name": "python",
   "nbconvert_exporter": "python",
   "pygments_lexer": "ipython3",
   "version": "3.7.4"
  }
 },
 "nbformat": 4,
 "nbformat_minor": 4
}
