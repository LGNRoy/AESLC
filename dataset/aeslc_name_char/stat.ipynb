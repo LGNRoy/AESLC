{
 "cells": [
  {
   "cell_type": "code",
   "execution_count": 1,
   "metadata": {},
   "outputs": [],
   "source": [
    "min_src_nsents = float(\"inf\")\n",
    "max_src_nsents = 0\n",
    "min_src_ntokens_per_sent = float(\"inf\")\n",
    "max_src_ntokens_per_sent = 0\n",
    "min_tgt_ntokens = float(\"inf\")\n",
    "max_tgt_ntokens = 0"
   ]
  },
  {
   "cell_type": "code",
   "execution_count": 2,
   "metadata": {},
   "outputs": [],
   "source": [
    "src_nsents = []\n",
    "src_ntokens_per_sent = []\n",
    "tgt_ntokens = []"
   ]
  },
  {
   "cell_type": "code",
   "execution_count": 24,
   "metadata": {},
   "outputs": [],
   "source": [
    "corpus_type = \"train\"\n",
    "count = 0\n",
    "\n",
    "path = \"token/AESLC_{}_token_filted\".format(corpus_type)\n",
    "sub_path = path+\"_sub.txt\"\n",
    "doc_path = path+\"_doc.txt\"   \n",
    "reader_sub = open(sub_path)\n",
    "reader_doc = open(doc_path)\n",
    "while True:\n",
    "    doc_token = reader_doc.readline().replace(\"\\n\",\"\")\n",
    "    sub_token = reader_sub.readline().replace(\"\\n\",\"\")\n",
    "    if not doc_token:\n",
    "        break\n",
    "    if doc_token == \"\" or sub_token == \"\":\n",
    "        count += 1\n",
    "        continue\n",
    "\n",
    "    doc_sent = doc_token.split(\"<sentsep>\")\n",
    "    doc_sent_numb = len(doc_sent)\n",
    "    src_nsents.append(doc_sent_numb)\n",
    "    \n",
    "    for sent in doc_sent:\n",
    "        sent_toke_numb = len(\" \".join(sent.split(\"<tokesep>\")).split())\n",
    "        src_ntokens_per_sent.append(sent_toke_numb)\n",
    "        \n",
    "    sub_toke = \" \".join(sub_token.replace(\"<sentsep>\",\"<tokesep>\").split(\"<tokesep>\")).split()\n",
    "    tgt_ntokens.append(len(sub_toke))\n",
    "    \n",
    "reader_doc.close()\n",
    "reader_sub.close()\n"
   ]
  },
  {
   "cell_type": "code",
   "execution_count": 20,
   "metadata": {},
   "outputs": [
    {
     "data": {
      "text/plain": [
       "<module 'matplotlib.pyplot' from 'c:\\\\program files\\\\python37\\\\lib\\\\site-packages\\\\matplotlib\\\\pyplot.py'>"
      ]
     },
     "execution_count": 20,
     "metadata": {},
     "output_type": "execute_result"
    },
    {
     "data": {
      "image/png": "[encoded data removed]",
      "text/plain": [
       "<Figure size 432x288 with 1 Axes>"
      ]
     },
     "metadata": {
      "needs_background": "light"
     },
     "output_type": "display_data"
    }
   ],
   "source": [
    "import matplotlib.pyplot as plt\n",
    "import numpy as np\n",
    "\n",
    "\n",
    "x = np.random.randn(1000)\n",
    "\n",
    "plt.boxplot(tgt_ntokens)\n",
    "\n",
    "# plt.xticks([1], [\"随机数生成器AlphaRM\"])\n",
    "# plt.ylabel(\"随机数值\")\n",
    "# plt.title(\"随机数生成器抗干扰能力的稳定性\")\n",
    "\n",
    "# plt.grid(axis=\"y\", ls=\":\", lw=1, color=\"gray\", alpha=0.4)\n",
    "\n",
    "plt"
   ]
  },
  {
   "cell_type": "code",
   "execution_count": 12,
   "metadata": {},
   "outputs": [],
   "source": [
    "plt.show()"
   ]
  },
  {
   "cell_type": "code",
   "execution_count": 17,
   "metadata": {},
   "outputs": [
    {
     "data": {
      "text/plain": [
       "(0, 40)"
      ]
     },
     "execution_count": 17,
     "metadata": {},
     "output_type": "execute_result"
    }
   ],
   "source": [
    "(0,40)"
   ]
  },
  {
   "cell_type": "code",
   "execution_count": 5,
   "metadata": {},
   "outputs": [
    {
     "data": {
      "text/plain": [
       "(1, 119)"
      ]
     },
     "execution_count": 5,
     "metadata": {},
     "output_type": "execute_result"
    }
   ],
   "source": [
    "min(src_nsents), max(src_nsents)"
   ]
  },
  {
   "cell_type": "code",
   "execution_count": 19,
   "metadata": {},
   "outputs": [
    {
     "data": {
      "text/plain": [
       "(0, 40)"
      ]
     },
     "execution_count": 19,
     "metadata": {},
     "output_type": "execute_result"
    }
   ],
   "source": [
    "(0, 40)"
   ]
  },
  {
   "cell_type": "code",
   "execution_count": 6,
   "metadata": {},
   "outputs": [
    {
     "data": {
      "text/plain": [
       "(0, 487)"
      ]
     },
     "execution_count": 6,
     "metadata": {},
     "output_type": "execute_result"
    }
   ],
   "source": [
    "min(src_ntokens_per_sent), max(src_ntokens_per_sent)"
   ]
  },
  {
   "cell_type": "code",
   "execution_count": 21,
   "metadata": {},
   "outputs": [
    {
     "data": {
      "text/plain": [
       "(0, 15)"
      ]
     },
     "execution_count": 21,
     "metadata": {},
     "output_type": "execute_result"
    }
   ],
   "source": [
    "(0,15)"
   ]
  },
  {
   "cell_type": "code",
   "execution_count": 7,
   "metadata": {},
   "outputs": [
    {
     "data": {
      "text/plain": [
       "(1, 34)"
      ]
     },
     "execution_count": 7,
     "metadata": {},
     "output_type": "execute_result"
    }
   ],
   "source": [
    "min(tgt_ntokens), max(tgt_ntokens)"
   ]
  }
 ],
 "metadata": {
  "kernelspec": {
   "display_name": "Python 3",
   "language": "python",
   "name": "python3"
  },
  "language_info": {
   "codemirror_mode": {
    "name": "ipython",
    "version": 3
   },
   "file_extension": ".py",
   "mimetype": "text/x-python",
   "name": "python",
   "nbconvert_exporter": "python",
   "pygments_lexer": "ipython3",
   "version": "3.7.4"
  }
 },
 "nbformat": 4,
 "nbformat_minor": 4
}
