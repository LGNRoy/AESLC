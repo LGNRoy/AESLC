{
 "cells": [
  {
   "cell_type": "code",
   "execution_count": null,
   "metadata": {},
   "outputs": [],
   "source": []
  },
  {
   "cell_type": "code",
   "execution_count": 8,
   "metadata": {},
   "outputs": [
    {
     "name": "stdout",
     "output_type": "stream",
     "text": [
      " 驱动器 D 中的卷是 Blade HDD\n",
      " 卷的序列号是 6AEF-C42D\n",
      "\n",
      " D:\\study\\Capstone\\dataset\\aeslc_name 的目录\n",
      "\n",
      "2019/10/19  04:45    <DIR>          .\n",
      "2019/10/19  04:45    <DIR>          ..\n",
      "2019/10/19  04:25    <DIR>          .ipynb_checkpoints\n",
      "2019/10/19  03:58            54,169 check_rouge.ipynb\n",
      "2019/10/15  02:01    <DIR>          exp_result\n",
      "2019/10/16  15:25            49,594 exp_rouge.ipynb\n",
      "2019/10/19  04:27    <DIR>          quarter_raw\n",
      "2019/10/19  04:26    <DIR>          raw\n",
      "2019/10/19  04:45             1,560 raw.ipynb\n",
      "2019/10/19  04:26    <DIR>          tokened\n",
      "               3 个文件        105,323 字节\n",
      "               7 个目录 1,590,087,667,712 可用字节\n"
     ]
    }
   ],
   "source": [
    "!dir"
   ]
  },
  {
   "cell_type": "code",
   "execution_count": 9,
   "metadata": {},
   "outputs": [],
   "source": []
  },
  {
   "cell_type": "code",
   "execution_count": null,
   "metadata": {},
   "outputs": [],
   "source": []
  },
  {
   "cell_type": "code",
   "execution_count": 17,
   "metadata": {},
   "outputs": [],
   "source": [
    "writer = open(\"quarter_raw/train.aeslc.quarter.txt\",\"w\")\n",
    "path = \"quarter_raw/train_raw_\"\n",
    "sub_path = path+\"sub.txt\"\n",
    "doc_path = path+\"doc.txt\"    \n",
    "reader_sub = open(sub_path)\n",
    "reader_doc = open(doc_path)\n",
    "\n",
    "while True:\n",
    "    doc = reader_doc.readline()\n",
    "    sub = reader_sub.readline()\n",
    "    if not doc:\n",
    "        reader_doc.close()\n",
    "        reader_sub.close()\n",
    "        break\n",
    "    writer.write(doc.rstrip() + \"\\t\" + sub)\n",
    "    \n",
    "writer.close()\n",
    "reader_sub.close()\n",
    "reader_doc.close()"
   ]
  }
 ],
 "metadata": {
  "kernelspec": {
   "display_name": "Python 3",
   "language": "python",
   "name": "python3"
  },
  "language_info": {
   "codemirror_mode": {
    "name": "ipython",
    "version": 3
   },
   "file_extension": ".py",
   "mimetype": "text/x-python",
   "name": "python",
   "nbconvert_exporter": "python",
   "pygments_lexer": "ipython3",
   "version": "3.7.3"
  }
 },
 "nbformat": 4,
 "nbformat_minor": 2
}
