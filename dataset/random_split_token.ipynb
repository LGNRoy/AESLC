{
 "cells": [
  {
   "cell_type": "code",
   "execution_count": 2,
   "metadata": {},
   "outputs": [],
   "source": [
    "dataset = []\n",
    "sep = \"<sep>\"\n",
    "for field in [\"dev\",\"train\",\"test\"]:\n",
    "    path = \"tokened/\"+field\n",
    "\n",
    "    sub_path = path+\"_token_sub.txt\"\n",
    "    doc_path = path+\"_token_doc.txt\"\n",
    "    nme_path = path+\"_raw_nme.txt\"\n",
    "    reader_sub = open(sub_path)\n",
    "    reader_doc = open(doc_path)\n",
    "    reader_nme = open(nme_path)\n",
    "\n",
    "    while True:\n",
    "        doc_token = reader_doc.readline().rstrip()\n",
    "        sub_token = reader_sub.readline().rstrip()\n",
    "        nme_token = sep.join(reader_nme.readline().rstrip().split(\"\\t\"))\n",
    "        dataset.append(doc_token+sep+sub_token+sep+nme_token)\n",
    "\n",
    "        if not doc_token:\n",
    "            reader_doc.close()\n",
    "            reader_sub.close()\n",
    "            reader_nme.close()\n",
    "            break\n",
    "\n",
    "    reader_doc.close()\n",
    "    reader_sub.close()\n",
    "    reader_nme.close()"
   ]
  },
  {
   "cell_type": "code",
   "execution_count": null,
   "metadata": {},
   "outputs": [],
   "source": []
  },
  {
   "cell_type": "code",
   "execution_count": 4,
   "metadata": {},
   "outputs": [],
   "source": [
    "writer = open(\"random_tokened/full.txt\",\"w\")\n",
    "for line in dataset:\n",
    "    writer.write(line+\"\\n\")\n",
    "writer.close()"
   ]
  },
  {
   "cell_type": "code",
   "execution_count": 5,
   "metadata": {},
   "outputs": [],
   "source": []
  },
  {
   "cell_type": "code",
   "execution_count": 6,
   "metadata": {},
   "outputs": [],
   "source": [
    "import numpy as np"
   ]
  },
  {
   "cell_type": "code",
   "execution_count": 7,
   "metadata": {},
   "outputs": [],
   "source": [
    "data = np.array(dataset[:-1])\n",
    "length = len(dataset[:-1])"
   ]
  },
  {
   "cell_type": "code",
   "execution_count": 10,
   "metadata": {},
   "outputs": [
    {
     "data": {
      "text/plain": [
       "14643.2"
      ]
     },
     "execution_count": 10,
     "metadata": {},
     "output_type": "execute_result"
    }
   ],
   "source": [
    "length*0.8"
   ]
  },
  {
   "cell_type": "code",
   "execution_count": 9,
   "metadata": {},
   "outputs": [],
   "source": [
    "np.random.shuffle(data)"
   ]
  },
  {
   "cell_type": "code",
   "execution_count": 11,
   "metadata": {},
   "outputs": [],
   "source": [
    "train = data[:14644]\n",
    "test  = data[14644:16475]\n",
    "valid = data[16475:]"
   ]
  },
  {
   "cell_type": "code",
   "execution_count": 12,
   "metadata": {},
   "outputs": [
    {
     "data": {
      "text/plain": [
       "['A<tokesep>new<tokesep>version<tokesep>of<tokesep>CQG<tokesep>has<tokesep>been<tokesep>deployed<tokesep>to<tokesep>all<tokesep>current<tokesep>CQG<tokesep>users<tokesep>.<sentsep><tokesep>When<tokesep>you<tokesep>log<tokesep>out<tokesep>and<tokesep>log<tokesep>back<tokesep>in<tokesep>you<tokesep>may<tokesep>not<tokesep>initially<tokesep>see<tokesep>your<tokesep>saved<tokesep>layouts<tokesep>.<sentsep><tokesep>If<tokesep>this<tokesep>occurs<tokesep>,<tokesep>please<tokesep>follow<tokesep>the<tokesep>below<tokesep>instructions<tokesep>to<tokesep>retrieve<tokesep>your<tokesep>layouts<tokesep>.<sentsep><tokesep>If<tokesep>you<tokesep>need<tokesep>assistance<tokesep>please<tokesep>contact<tokesep>the<tokesep>resolution<tokesep>center<tokesep>at<tokesep>x31411<tokesep>and<tokesep>your<tokesep>floor<tokesep>support<tokesep>technician<tokesep>will<tokesep>be<tokesep>able<tokesep>to<tokesep>assist<tokesep>.<sentsep><tokesep>Thank<tokesep>You<tokesep>.',\n",
       " 'You<tokesep>may<tokesep>lose<tokesep>your<tokesep>layouts<tokesep>for<tokesep>CQG<tokesep>....',\n",
       " 'brawner-s',\n",
       " 'inbox',\n",
       " '35']"
      ]
     },
     "execution_count": 12,
     "metadata": {},
     "output_type": "execute_result"
    }
   ],
   "source": [
    "train[0].split(sep)"
   ]
  },
  {
   "cell_type": "code",
   "execution_count": 16,
   "metadata": {},
   "outputs": [
    {
     "data": {
      "text/plain": [
       "'brawner-s\\tinbox\\t35'"
      ]
     },
     "execution_count": 16,
     "metadata": {},
     "output_type": "execute_result"
    }
   ],
   "source": []
  },
  {
   "cell_type": "code",
   "execution_count": 17,
   "metadata": {},
   "outputs": [],
   "source": [
    "writer_mne = open(\"random_tokened/AESLC_train_token_nme.txt\",\"w\")\n",
    "writer_sub = open(\"random_tokened/AESLC_train_token_sub.txt\",\"w\")\n",
    "writer_doc = open(\"random_tokened/AESLC_train_token_doc.txt\",\"w\")\n",
    "\n",
    "for line in train:\n",
    "    cols = line.split(sep)\n",
    "    writer_doc.write(cols[0]+\"\\n\")\n",
    "    writer_sub.write(cols[1]+\"\\n\")\n",
    "    writer_mne.write(\"\\t\".join(cols[2:])+\"\\n\")\n",
    "writer.close()"
   ]
  },
  {
   "cell_type": "code",
   "execution_count": 19,
   "metadata": {},
   "outputs": [],
   "source": [
    "writer_mne = open(\"random_tokened/AESLC_test_token_nme.txt\",\"w\")\n",
    "writer_sub = open(\"random_tokened/AESLC_test_token_sub.txt\",\"w\")\n",
    "writer_doc = open(\"random_tokened/AESLC_test_token_doc.txt\",\"w\")\n",
    "\n",
    "for line in test:\n",
    "    cols = line.split(sep)\n",
    "    writer_doc.write(cols[0]+\"\\n\")\n",
    "    writer_sub.write(cols[1]+\"\\n\")\n",
    "    writer_mne.write(\"\\t\".join(cols[2:])+\"\\n\")\n",
    "writer.close()"
   ]
  },
  {
   "cell_type": "code",
   "execution_count": 21,
   "metadata": {},
   "outputs": [],
   "source": [
    "writer_mne = open(\"random_tokened/AESLC_dev_token_nme.txt\",\"w\")\n",
    "writer_sub = open(\"random_tokened/AESLC_dev_token_sub.txt\",\"w\")\n",
    "writer_doc = open(\"random_tokened/AESLC_dev_token_doc.txt\",\"w\")\n",
    "\n",
    "for line in valid:\n",
    "    cols = line.split(sep)\n",
    "    writer_doc.write(cols[0]+\"\\n\")\n",
    "    writer_sub.write(cols[1]+\"\\n\")\n",
    "    writer_mne.write(\"\\t\".join(cols[2:])+\"\\n\")\n",
    "writer.close()"
   ]
  }
 ],
 "metadata": {
  "kernelspec": {
   "display_name": "Python 3",
   "language": "python",
   "name": "python3"
  },
  "language_info": {
   "codemirror_mode": {
    "name": "ipython",
    "version": 3
   },
   "file_extension": ".py",
   "mimetype": "text/x-python",
   "name": "python",
   "nbconvert_exporter": "python",
   "pygments_lexer": "ipython3",
   "version": "3.7.3"
  }
 },
 "nbformat": 4,
 "nbformat_minor": 2
}
